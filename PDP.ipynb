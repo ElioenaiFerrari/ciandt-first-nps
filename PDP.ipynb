{
  "cells": [
    {
      "cell_type": "markdown",
      "metadata": {
        "id": "xi_iSnPeKzBP"
      },
      "source": []
    },
    {
      "cell_type": "code",
      "execution_count": 199,
      "metadata": {
        "id": "M00_ZT1WFVj7"
      },
      "outputs": [],
      "source": [
        "import pandas as pd\n",
        "import matplotlib.pyplot as plt\n",
        "\n",
        "%matplotlib inline"
      ]
    },
    {
      "cell_type": "code",
      "execution_count": 200,
      "metadata": {
        "colab": {
          "base_uri": "https://localhost:8080/",
          "height": 333
        },
        "id": "k9cTW4NVFbdn",
        "outputId": "3a77f84d-f71c-4c65-9310-08a70a163165"
      },
      "outputs": [
        {
          "data": {
            "text/html": [
              "<div>\n",
              "<style scoped>\n",
              "    .dataframe tbody tr th:only-of-type {\n",
              "        vertical-align: middle;\n",
              "    }\n",
              "\n",
              "    .dataframe tbody tr th {\n",
              "        vertical-align: top;\n",
              "    }\n",
              "\n",
              "    .dataframe thead th {\n",
              "        text-align: right;\n",
              "    }\n",
              "</style>\n",
              "<table border=\"1\" class=\"dataframe\">\n",
              "  <thead>\n",
              "    <tr style=\"text-align: right;\">\n",
              "      <th></th>\n",
              "      <th>role</th>\n",
              "      <th>code_excellence</th>\n",
              "      <th>code_review</th>\n",
              "      <th>tech_refinment</th>\n",
              "      <th>estimates</th>\n",
              "      <th>process_status</th>\n",
              "      <th>feedbacks</th>\n",
              "      <th>attitudes</th>\n",
              "      <th>posture</th>\n",
              "      <th>responsibility</th>\n",
              "      <th>credibility</th>\n",
              "      <th>communication</th>\n",
              "      <th>recommendation</th>\n",
              "    </tr>\n",
              "    <tr>\n",
              "      <th>collaborator</th>\n",
              "      <th></th>\n",
              "      <th></th>\n",
              "      <th></th>\n",
              "      <th></th>\n",
              "      <th></th>\n",
              "      <th></th>\n",
              "      <th></th>\n",
              "      <th></th>\n",
              "      <th></th>\n",
              "      <th></th>\n",
              "      <th></th>\n",
              "      <th></th>\n",
              "      <th></th>\n",
              "    </tr>\n",
              "  </thead>\n",
              "  <tbody>\n",
              "    <tr>\n",
              "      <th>Renan</th>\n",
              "      <td>Dev</td>\n",
              "      <td>8</td>\n",
              "      <td>9</td>\n",
              "      <td>8</td>\n",
              "      <td>8</td>\n",
              "      <td>10</td>\n",
              "      <td>8</td>\n",
              "      <td>8</td>\n",
              "      <td>10</td>\n",
              "      <td>8</td>\n",
              "      <td>10</td>\n",
              "      <td>10</td>\n",
              "      <td>10</td>\n",
              "    </tr>\n",
              "    <tr>\n",
              "      <th>Caíque</th>\n",
              "      <td>PM</td>\n",
              "      <td>9</td>\n",
              "      <td>9</td>\n",
              "      <td>9</td>\n",
              "      <td>8</td>\n",
              "      <td>9</td>\n",
              "      <td>7</td>\n",
              "      <td>9</td>\n",
              "      <td>10</td>\n",
              "      <td>10</td>\n",
              "      <td>10</td>\n",
              "      <td>7</td>\n",
              "      <td>10</td>\n",
              "    </tr>\n",
              "    <tr>\n",
              "      <th>Dai</th>\n",
              "      <td>QA</td>\n",
              "      <td>10</td>\n",
              "      <td>10</td>\n",
              "      <td>10</td>\n",
              "      <td>10</td>\n",
              "      <td>10</td>\n",
              "      <td>9</td>\n",
              "      <td>10</td>\n",
              "      <td>10</td>\n",
              "      <td>10</td>\n",
              "      <td>10</td>\n",
              "      <td>10</td>\n",
              "      <td>10</td>\n",
              "    </tr>\n",
              "    <tr>\n",
              "      <th>Marcone</th>\n",
              "      <td>Designer</td>\n",
              "      <td>5</td>\n",
              "      <td>5</td>\n",
              "      <td>5</td>\n",
              "      <td>5</td>\n",
              "      <td>10</td>\n",
              "      <td>8</td>\n",
              "      <td>8</td>\n",
              "      <td>9</td>\n",
              "      <td>10</td>\n",
              "      <td>10</td>\n",
              "      <td>8</td>\n",
              "      <td>9</td>\n",
              "    </tr>\n",
              "    <tr>\n",
              "      <th>Dory</th>\n",
              "      <td>Dev</td>\n",
              "      <td>9</td>\n",
              "      <td>9</td>\n",
              "      <td>6</td>\n",
              "      <td>8</td>\n",
              "      <td>8</td>\n",
              "      <td>8</td>\n",
              "      <td>9</td>\n",
              "      <td>9</td>\n",
              "      <td>8</td>\n",
              "      <td>9</td>\n",
              "      <td>7</td>\n",
              "      <td>8</td>\n",
              "    </tr>\n",
              "    <tr>\n",
              "      <th>Antivírus</th>\n",
              "      <td>Dev</td>\n",
              "      <td>9</td>\n",
              "      <td>9</td>\n",
              "      <td>9</td>\n",
              "      <td>9</td>\n",
              "      <td>7</td>\n",
              "      <td>9</td>\n",
              "      <td>9</td>\n",
              "      <td>9</td>\n",
              "      <td>9</td>\n",
              "      <td>9</td>\n",
              "      <td>8</td>\n",
              "      <td>10</td>\n",
              "    </tr>\n",
              "  </tbody>\n",
              "</table>\n",
              "</div>"
            ],
            "text/plain": [
              "                  role  code_excellence  code_review  tech_refinment  \\\n",
              "collaborator                                                           \n",
              "Renan              Dev                8            9               8   \n",
              "Caíque              PM                9            9               9   \n",
              "Dai                 QA               10           10              10   \n",
              "Marcone       Designer                5            5               5   \n",
              "Dory               Dev                9            9               6   \n",
              "Antivírus          Dev                9            9               9   \n",
              "\n",
              "              estimates  process_status  feedbacks  attitudes  posture  \\\n",
              "collaborator                                                             \n",
              "Renan                 8              10          8          8       10   \n",
              "Caíque                8               9          7          9       10   \n",
              "Dai                  10              10          9         10       10   \n",
              "Marcone               5              10          8          8        9   \n",
              "Dory                  8               8          8          9        9   \n",
              "Antivírus             9               7          9          9        9   \n",
              "\n",
              "              responsibility  credibility  communication  recommendation  \n",
              "collaborator                                                              \n",
              "Renan                      8           10             10              10  \n",
              "Caíque                    10           10              7              10  \n",
              "Dai                       10           10             10              10  \n",
              "Marcone                   10           10              8               9  \n",
              "Dory                       8            9              7               8  \n",
              "Antivírus                  9            9              8              10  "
            ]
          },
          "execution_count": 200,
          "metadata": {},
          "output_type": "execute_result"
        }
      ],
      "source": [
        "data = {\n",
        "    'collaborator': ['Renan', 'Caíque', 'Dai', 'Marcone', 'Dory', 'Antivírus'],\n",
        "    'role': ['Dev', 'PM', 'QA', 'Designer', 'Dev', 'Dev'],\n",
        "    'code_excellence': [8, 9, 10, 5, 9, 9],\n",
        "    'code_review': [9, 9, 10, 5, 9, 9],\n",
        "    'tech_refinment': [8, 9, 10, 5, 6, 9],\n",
        "    'estimates': [8, 8, 10, 5, 8, 9],\n",
        "    'process_status': [10, 9, 10, 10, 8, 7],\n",
        "    'feedbacks': [8, 7, 9, 8, 8, 9],\n",
        "    'attitudes': [8, 9, 10, 8, 9, 9],\n",
        "    'posture': [10, 10, 10, 9, 9, 9],\n",
        "    'responsibility': [8, 10, 10, 10, 8, 9],\n",
        "    'credibility': [10, 10, 10, 10, 9, 9],\n",
        "    'communication': [10, 7, 10, 8, 7, 8],\n",
        "    'recommendation': [10, 10, 10, 9, 8, 10],\n",
        "    \n",
        "}\n",
        "df = pd.DataFrame(data)\n",
        "df.set_index('collaborator', inplace=True)\n",
        "\n",
        "df"
      ]
    },
    {
      "cell_type": "code",
      "execution_count": 201,
      "metadata": {
        "id": "Fg0WjkgmIViP"
      },
      "outputs": [],
      "source": [
        "technicals = df[df['role'] == 'Dev']\n",
        "technicals = technicals.drop('role', axis=1)\n",
        "technicals = technicals.reset_index(drop=True)\n",
        "\n",
        "all = df.drop('role', axis=1)\n",
        "all = all.reset_index(drop=True)"
      ]
    },
    {
      "cell_type": "code",
      "execution_count": 202,
      "metadata": {
        "colab": {
          "base_uri": "https://localhost:8080/"
        },
        "id": "w89xU3PvNayS",
        "outputId": "0c5f69ed-f859-4715-99d0-27d7ddfd1a4e"
      },
      "outputs": [
        {
          "data": {
            "text/plain": [
              "code_excellence    8.666667\n",
              "code_review        9.000000\n",
              "tech_refinment     7.833333\n",
              "estimates          8.333333\n",
              "process_status     9.000000\n",
              "feedbacks          8.166667\n",
              "attitudes          8.833333\n",
              "posture            9.500000\n",
              "responsibility     9.166667\n",
              "credibility        9.666667\n",
              "communication      8.333333\n",
              "recommendation     9.500000\n",
              "dtype: float64"
            ]
          },
          "execution_count": 202,
          "metadata": {},
          "output_type": "execute_result"
        }
      ],
      "source": [
        "means = {\n",
        "    'code_excellence': technicals['code_excellence'].mean(),\n",
        "    'code_review': technicals['code_review'].mean(),\n",
        "    'tech_refinment': all['tech_refinment'].mean(),\n",
        "    'estimates': technicals['estimates'].mean(),\n",
        "    'process_status': all['process_status'].mean(),\n",
        "    'feedbacks': all['feedbacks'].mean(),\n",
        "    'attitudes': all['attitudes'].mean(),\n",
        "    'posture': all['posture'].mean(),\n",
        "    'responsibility': all['responsibility'].mean(),\n",
        "    'credibility': all['credibility'].mean(),\n",
        "    'communication': all['communication'].mean(),\n",
        "    'recommendation': all['recommendation'].mean(),\n",
        "}\n",
        "\n",
        "\n",
        "means = pd.Series(means)\n",
        "\n",
        "means"
      ]
    },
    {
      "cell_type": "code",
      "execution_count": 203,
      "metadata": {
        "colab": {
          "base_uri": "https://localhost:8080/"
        },
        "id": "M-feEnC98c1-",
        "outputId": "e70db8d8-c3ed-4a7f-8e13-f742d6f78555"
      },
      "outputs": [],
      "source": [
        "def calculate_nps(df: pd.DataFrame, field: str):\n",
        "  total = df[field].count()\n",
        "  promoters = df[df[field]>=9][field].count()\n",
        "  detractors =  df[df[field]<=6][field].count()\n",
        "\n",
        "\n",
        "  return ((promoters - detractors)/total) * 100"
      ]
    },
    {
      "cell_type": "code",
      "execution_count": 204,
      "metadata": {
        "colab": {
          "base_uri": "https://localhost:8080/"
        },
        "id": "e_wswoyXaQmz",
        "outputId": "7182274a-f5dc-480a-8bab-7bed19dd5836"
      },
      "outputs": [
        {
          "data": {
            "text/plain": [
              "array([100.        , 100.        , 100.        ,  83.33333333])"
            ]
          },
          "execution_count": 204,
          "metadata": {},
          "output_type": "execute_result"
        }
      ],
      "source": [
        "nps = {\n",
        "    'code_excellence': calculate_nps(technicals, 'code_excellence'),\n",
        "    'code_review': calculate_nps(technicals, 'code_review'),\n",
        "    'tech_refinment': calculate_nps(all, 'tech_refinment'),\n",
        "    'estimates': calculate_nps(technicals, 'estimates'),\n",
        "    'process_status': calculate_nps(all, 'process_status'),\n",
        "    'feedbacks': calculate_nps(all, 'feedbacks'),\n",
        "    'attitudes': calculate_nps(all, 'attitudes'),\n",
        "    'posture': calculate_nps(all, 'posture'),\n",
        "    'responsibility': calculate_nps(all, 'responsibility'),\n",
        "    'credibility': calculate_nps(all, 'credibility'),\n",
        "    'communication': calculate_nps(all, 'communication'),\n",
        "    'recommendation': calculate_nps(all, 'recommendation'),\n",
        "}\n",
        "\n",
        "\n",
        "nps = pd.Series(nps)\n",
        "\n",
        "nps[nps > 80].values"
      ]
    },
    {
      "cell_type": "code",
      "execution_count": 205,
      "metadata": {
        "colab": {
          "base_uri": "https://localhost:8080/",
          "height": 501
        },
        "id": "UeoBck3__9Yj",
        "outputId": "a4708a20-18db-4e62-c180-ceafb218ea84"
      },
      "outputs": [
        {
          "data": {
            "text/plain": [
              "Text(0.5, 0, 'Skill')"
            ]
          },
          "execution_count": 205,
          "metadata": {},
          "output_type": "execute_result"
        },
        {
          "data": {
            "image/png": "[encoded data removed]",
            "text/plain": [
              "<Figure size 1200x400 with 1 Axes>"
            ]
          },
          "metadata": {},
          "output_type": "display_data"
        }
      ],
      "source": [
        "df = df.reset_index(drop=True)\n",
        "df = df.drop('role', axis=1)\n",
        "plt.style.use('classic')\n",
        "plt.rcParams['figure.figsize'] = (15, 5)\n",
        "plt.xticks(rotation=45)\n",
        "plt.bar(df.columns.values, nps.values, color='#7159c1')\n",
        "plt.title('NPS Eli')\n",
        "plt.ylabel('Percentage')\n",
        "plt.xlabel('Skill')"
      ]
    }
  ],
  "metadata": {
    "colab": {
      "collapsed_sections": [],
      "name": "PDP.ipynb",
      "provenance": []
    },
    "kernelspec": {
      "display_name": "Python 3",
      "name": "python3"
    },
    "language_info": {
      "codemirror_mode": {
        "name": "ipython",
        "version": 3
      },
      "file_extension": ".py",
      "mimetype": "text/x-python",
      "name": "python",
      "nbconvert_exporter": "python",
      "pygments_lexer": "ipython3",
      "version": "3.8.9"
    }
  },
  "nbformat": 4,
  "nbformat_minor": 0
}
